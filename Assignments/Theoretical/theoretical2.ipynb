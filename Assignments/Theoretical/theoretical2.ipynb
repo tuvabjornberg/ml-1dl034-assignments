{
 "cells": [
  {
   "cell_type": "markdown",
   "metadata": {},
   "source": [
    "# Logistic Regression\n",
    "## Introduction\n",
    "\n",
    "In this notebook we are going to study gradient descent and in this case applied to logistic regression.\n",
    "Logistic regression (LR) is a statistical method for analysing datasets where there are one of more independent variables that determine the outcome. The outcome is a dichotomous, meaning there are only two possible outcomes (1 / 0, Yes / No, True / False). For instance, if you want to predict the sex of a person from age ($x_1$) and income ($x_2$), the logistic regression model would be\n",
    "\n",
    "$$ h(x) = \\theta_0 + \\theta_1x_1 + \\theta_2 x_2 $$\n",
    "\n",
    "where $h(x)$ is the outcome varibale, $\\theta_0$ the bias and $\\theta_1$ and $\\theta_2$ the weights. The goal is ultimately to tune these parameters with respect to the obeserved data ($x_1$,$x_2$).\n",
    "\n",
    "LR estimates a probability (between 0 and 100%) but $h(x)$ gives values in $(-\\infty, +\\infty)$. We need to \"squish\" $h(x)$ to restrict it to a suitable range. LR commonly uses the logistic function (a.k.a. sigmoid function) to compute probabilities: \n",
    "\n",
    "$$ \\sigma(h(x)) = \\frac{1}{1+e^{-h(x)}}. $$\n",
    "\n",
    "It is possible to threshold the logistic function (values between 0-1), and values below 0.5 will be counted as the prediction of class 0 and values larger than 0.5 results in the prediction of class 1.\n",
    "\n",
    "The full logistic regression model is then:\n",
    "\n",
    "$$ z(x) = \\sigma(h(x)) = \\frac{1}{1+e^{-(\\theta_0 + \\theta_1x_1 + \\theta_2 x_2)}}. $$"
   ]
  },
  {
   "cell_type": "markdown",
   "metadata": {},
   "source": [
    "# Ready, steady, code! 🚀\n",
    "\n",
    "Let's start with loading some data, scikit-learn comes with a couple of toy datasets and we are going to use the \"iris\" dataset where the goal is to classify which type of flower based on a set of features consisting of sepal length (cm), sepal width (cm), petal length (cm), petal width (cm). To begin with we consider only two of those features."
   ]
  },
  {
   "cell_type": "code",
   "execution_count": 585,
   "metadata": {
    "ExecuteTime": {
     "end_time": "2021-01-19T07:50:41.692245Z",
     "start_time": "2021-01-19T07:50:41.685547Z"
    }
   },
   "outputs": [],
   "source": [
    "# import stuff that we need\n",
    "import numpy as np\n",
    "import matplotlib as mpl\n",
    "import matplotlib.pyplot as plt\n",
    "import sklearn\n",
    "import sklearn.datasets as ds\n",
    "from IPython.display import clear_output # if you get problem with this import you can skip it, it is used to print the cost later which can be skipped"
   ]
  },
  {
   "cell_type": "code",
   "execution_count": 586,
   "metadata": {
    "ExecuteTime": {
     "end_time": "2021-01-19T07:52:28.766916Z",
     "start_time": "2021-01-19T07:52:28.757691Z"
    }
   },
   "outputs": [],
   "source": [
    "assert np.__version__ == \"2.2.0\", \"Looks like you don't have the same version of numpy as us!\"\n",
    "assert mpl.__version__ == \"3.10.0\", \"Looks like you don't have the same version of matplotlib as us!\"\n",
    "assert sklearn.__version__ == \"1.6.0\", \"Looks like you don't have the same version of sklearn as us!\""
   ]
  },
  {
   "cell_type": "code",
   "execution_count": 587,
   "metadata": {
    "ExecuteTime": {
     "end_time": "2021-01-19T07:52:33.179008Z",
     "start_time": "2021-01-19T07:52:33.151459Z"
    }
   },
   "outputs": [],
   "source": [
    "data = ds.load_iris()\n",
    "\n",
    "selected_features_idx = [0,1] #'sepal length (cm)', 'sepal width (cm)'\n",
    "selected_targets = [0,1] #'setosa' 'versicolor'\n",
    "\n",
    "idx = np.array([x in selected_targets for x in data.target])\n",
    "x = data.data[:,selected_features_idx][idx]\n",
    "y = data.target[idx]\n",
    "y[y > 1] = 1 # Reset labels greater than 1 to 1"
   ]
  },
  {
   "cell_type": "code",
   "execution_count": 588,
   "metadata": {
    "ExecuteTime": {
     "end_time": "2021-01-19T07:52:46.508713Z",
     "start_time": "2021-01-19T07:52:46.172908Z"
    }
   },
   "outputs": [
    {
     "data": {
      "image/png": "[encoded data removed]",
      "text/plain": [
       "<Figure size 640x480 with 1 Axes>"
      ]
     },
     "metadata": {},
     "output_type": "display_data"
    }
   ],
   "source": [
    "plt.figure()\n",
    "for label in np.unique(y):\n",
    "    plt.scatter(x[:, 0][y == label], x[:, 1][y == label], label = data.target_names[label])\n",
    "plt.legend()\n",
    "plt.show()"
   ]
  },
  {
   "cell_type": "markdown",
   "metadata": {},
   "source": [
    "Now we need a function that predicts the logistic regression model and make predictions. This function takes a measurement, the current bias and the weights as input.\n",
    "\n",
    "$$ z(x) = \\frac{1}{1+e^{-(\\theta_0 + \\theta_1x_1 + \\theta_2x_2)}} $$\n"
   ]
  },
  {
   "cell_type": "code",
   "execution_count": 589,
   "metadata": {},
   "outputs": [],
   "source": [
    "def z_x(x, bias, weights):\n",
    "    \"\"\" param x: vector containing measurements. x = [x1, x2]\n",
    "        param bias: single value\n",
    "        param weight: vector containing model weights. weights= [w1,w2]\n",
    "        \n",
    "        return: value of logistic regression model for defined x, bias and weights\n",
    "    \"\"\"\n",
    "\n",
    "    # STUDENT CODE HERE\n",
    "    x1, x2 = x\n",
    "    w1, w2 = weights\n",
    "\n",
    "    return 1 / (1 + np.exp(-(bias + w1 * x1 + w2 * x2)))\n",
    "    #return 1 / (1 + np.exp(-(bias + weights[0] * x[0] + weights[1] * x[1])))\n",
    "    # STUDENT CODE ENDS"
   ]
  },
  {
   "cell_type": "markdown",
   "metadata": {},
   "source": [
    "Now try it with some random weights and bias."
   ]
  },
  {
   "cell_type": "code",
   "execution_count": 590,
   "metadata": {},
   "outputs": [
    {
     "name": "stdout",
     "output_type": "stream",
     "text": [
      "Accuracy:  0.5\n"
     ]
    }
   ],
   "source": [
    "bias = np.random.normal()\n",
    "weights = np.random.normal(size = len(x[0]))\n",
    "\n",
    "predicted = []\n",
    "for i in range(len(x)):\n",
    "    yhat = z_x(x[i], bias, weights)\n",
    "    predicted.append(round(yhat))\n",
    "\n",
    "print('Accuracy: ', np.sum(np.equal(y, predicted)) / len(predicted))"
   ]
  },
  {
   "cell_type": "markdown",
   "metadata": {},
   "source": [
    "Let's plot the decision boundary between the points for this set of weights. The decision boundary is found by setting $h(x) = 0$ which gives:\n",
    "\n",
    "$$ x_2 = -\\frac{\\theta_0 + \\theta_1x_1}{\\theta_2} $$"
   ]
  },
  {
   "cell_type": "code",
   "execution_count": 591,
   "metadata": {},
   "outputs": [
    {
     "data": {
      "image/png": "[encoded data removed]",
      "text/plain": [
       "<Figure size 640x480 with 1 Axes>"
      ]
     },
     "metadata": {},
     "output_type": "display_data"
    }
   ],
   "source": [
    "x_values = x[:,0]\n",
    "y_values = - (bias + weights[0]*x_values) / weights[1]\n",
    "\n",
    "plt.figure()\n",
    "plt.scatter(x[:,0][y==0],x[:,1][y==0], label = '0')\n",
    "plt.scatter(x[:,0][y==1],x[:,1][y==1], label = '2')\n",
    "plt.plot(x_values, y_values, label='Decision Boundary')\n",
    "plt.legend()\n",
    "plt.show()"
   ]
  },
  {
   "cell_type": "markdown",
   "metadata": {},
   "source": [
    "Not very good (or did you get lucky with the weights?). Try rerunning it a couple of times to see if you can randomly find a better set of weights that improves the accuracy.\n",
    "\n",
    "\n",
    "\n",
    "Now, a better way of finding the optimal weights is the gradient descent method. Gradient descent is an iterative process of minimizing a function by following the gradients of a pre-defined cost function. This is useful for updating and tuning the parameters of our logistic regression model. As gradient descent is an iterative algorithm, we have to repeat the above step until we reach a satisfactory solution. The updates are defined as:\n",
    "\n",
    "$$ \\theta_j \\leftarrow \\theta_j - \\alpha \\frac{\\partial J(\\theta)}{\\partial\\theta_j}, $$\n",
    "\n",
    "and similarily for the bias term \n",
    "\n",
    "$$ \\theta_0 \\leftarrow \\theta_0 - \\alpha \\frac{\\partial J(\\theta)}{\\partial \\theta_o}. $$\n",
    "\n",
    "Where $\\alpha$ is a user specified learning rate, a scalar that controls the step size in the parameter space and $J(\\theta)$ is the cost function that we will now define. Note that to minimize the cost function, we move in the direction opposite to the gradient.\n",
    "\n",
    "First, we need to define our cost function, which is typically the negative log-likelihood of the data for numerical reasons, also called *Binary-Cross-Entropy* loss function. For a binary classification problem with $m$ training examples, where $x^{(i)}$ represents the $i$-th example of our training set and $y^{(i)}$ its output, the cost function is given by:\n",
    "\n",
    "$$\n",
    "J(\\theta)=\\frac{1}{m}\\sum_{i=1}^m \n",
    "\\begin{cases}\n",
    "-log(g(x^{(i)}, \\theta)),& \\text{if } y^{(i)} = 1\\\\\n",
    "-log(1 - g(x^{(i)},\\theta)),& \\text{if } y^{(i)} = 0\n",
    "\\end{cases}\n",
    "$$\n",
    "\n",
    "where $g(x^{(i)},\\theta)$ modelizes $P(y = 1 | x; \\theta)$. Note that we have added $\\theta$ explicitly to the notation to emphasize the dependence on the model parameters.\n",
    "\n",
    "The two functions can be combined into one as:\n",
    "\n",
    "$$ J(\\theta) = -\\frac{1}{m} \\sum_{i=1}^m [y^{(i)} \\log(z_\\theta(x^{(i)})) + (1 - y^{(i)}) \\log(1 - z_\\theta(x^{(i)}))] $$\n",
    "\n",
    "Where $z_θ(x)$ is the sigmoid function, representing the probability that the input $x$ belongs to the positive class.\n",
    "\n",
    "To simplify the notation in the following calculations, we will omit the subindexes; nevertheless, keep in mind that when the cost function is optimized, it is done across all samples in the training dataset.\n",
    "\n",
    "$$ J(\\theta)= -y\\cdot log(z(x)) - (1-y)\\cdot log(1-z(x))$$\n",
    "\n",
    "where $y$ is the target class. The Binary-Cross-Entropy tells us that if the target is 1 and we predict 0, then we will get a large error ($-log(0) = \\infty$) and vice verca ($-log(1 - 1) = -log(0) = \\infty$).\n",
    "\n",
    "For gradient descent we need the derivative of this cost function with respect to the weights $\\frac{\\partial J(\\theta)}{\\partial\\theta_j}$. We can get this with the chain rule:\n",
    "\n",
    "\n",
    "\n",
    "$$\\frac{\\partial J(\\theta)}{\\partial \\theta_j} = \\frac{\\partial J(\\theta)}{\\partial z(x)} \\cdot \\frac{\\partial z(x)}{\\partial h(x)} \\cdot \\frac{\\partial h(x)}{\\partial \\theta_j}$$\n",
    "\n",
    "\n",
    "Where the three derivatives result in:\n",
    "\n",
    "$$\\begin{aligned} \\frac{\\partial J(\\theta)}{\\partial z(x)} &= -\\left(\\frac{y}{z(x)} - \\frac{(1-y)}{(1-z(x))}\\right) \\\\ \\frac{\\partial z(x)}{\\partial h(x)} &= z(x)\\cdot(1-z(x)) \\\\ \\frac{\\partial h(x)}{\\partial \\theta} &=  x \\end{aligned}$$\n",
    "\n",
    "Combining the previous equations together with the previous chain rule gives \n",
    "\n",
    "$$ \\frac{\\partial J(\\theta)}{\\partial\\theta_j} = x_j\\cdot(z(x)-y) $$\n",
    "\n",
    "where $x_j$ is the $j$-th component of $x$.\n",
    "\n",
    "For the bias term the derivative is similar but it is not dependent on $x$ since $\\frac{\\partial h(x)}{\\partial \\theta_0} =  1$\n",
    "\n",
    "$$ \\frac{\\partial J(\\theta)}{\\partial \\theta_0} = z(x)-y $$\n",
    "\n",
    "Finally, recovering the subindex notation for all the samples in our training set we can express the gradient of the cost function with respect to each parameter. For the weight case:\n",
    "\n",
    "$$ \\frac{\\partial J(\\theta)}{\\partial \\theta_j} = \\frac{1}{m} \\sum_{i=1}^m (z_\\theta(x^{(i)}) - y^{(i)})x_j^{(i)}. $$\n",
    "\n",
    "And for the bias case:\n",
    "\n",
    "$$ \\frac{\\partial J(\\theta)}{\\partial \\theta_0} = \\frac{1}{m} \\sum_{i=1}^m (z_\\theta(x^{(i)}) - y^{(i)}). $$\n",
    "\n",
    "With this two formulas now we can use these gradients to update the parameters in the gradient descent algorithm."
   ]
  },
  {
   "cell_type": "markdown",
   "metadata": {},
   "source": [
    "**The full algorithm is:**\n",
    "1. Initialize the weights randomly. \n",
    "2. Calculate the gradients of cost function w.r.t parameters.\n",
    "3. Update the weights by $ \\theta_j \\leftarrow \\theta_j - \\alpha \\frac{\\partial}{\\partial\\theta_j}J(\\theta). $\n",
    "4. Update the bias by $ \\theta_0 \\leftarrow \\theta_0 - \\alpha \\frac{\\partial}{\\partial \\theta_0}J(\\theta). $\n",
    "5. Repeat until value of cost function does not change or to a pre-defined number of iterations."
   ]
  },
  {
   "cell_type": "markdown",
   "metadata": {},
   "source": [
    "Write a function for the cost and one for its derivative with respect to the weights and one with respect to the bias. Note that the derivative function will return the number of values corresponing the the number of weights that you have. Also note that we are only doing this for one training point."
   ]
  },
  {
   "cell_type": "code",
   "execution_count": 592,
   "metadata": {},
   "outputs": [],
   "source": [
    "def cost_function(y, x, bias, weights):\n",
    "    \"\"\" param y: Ground truth label for measurements\n",
    "        param x: vector containing measurements. x = [x1, x2]\n",
    "        param bias: single value\n",
    "        param weight: vector containing model weights. weights= [w1,w2]\n",
    "    \n",
    "        return: value of the cost function. In this case BCE\n",
    "    \"\"\"\n",
    "\n",
    "    # STUDENT CODE HERE\n",
    "    z = z_x(x, bias, weights)\n",
    "    cost = -y * np.log(z) - (1 - y) * np.log(1 - z)\n",
    "    # STUDENT CODE ENDS\n",
    "    return cost"
   ]
  },
  {
   "cell_type": "code",
   "execution_count": 593,
   "metadata": {},
   "outputs": [],
   "source": [
    "def derivative_weights(y, x, bias, weights):\n",
    "    \"\"\" param y: Ground truth label for measurements\n",
    "        param x: vector containing measurements. x = [x1, x2]\n",
    "        param bias: single value\n",
    "        param weight: vector containing model weights. weights= [w1,w2]\n",
    "    \n",
    "        return: derivative of cost function with respect to the weights, dw = [dw1, dw2]\n",
    "    \"\"\"\n",
    "\n",
    "    # STUDENT CODE HERE\n",
    "    cost_deriv = x * (z_x(x, bias, weights) - y)\n",
    "    # STUDENT CODE ENDS\n",
    "    return cost_deriv"
   ]
  },
  {
   "cell_type": "code",
   "execution_count": 594,
   "metadata": {},
   "outputs": [],
   "source": [
    "def derivative_bias(y, x, bias, weights):\n",
    "    \"\"\" param y: Ground truth label for measurements\n",
    "        param x: vector containing measurements. x = [x1, x2]\n",
    "        param bias: single value\n",
    "        param weight: vector containing model weights. weights= [w1,w2]\n",
    "    \n",
    "        return: derivative of cost function with respect to the bias\n",
    "    \"\"\"\n",
    "\n",
    "    # STUDENT CODE HERE\n",
    "    cost_deriv = z_x(x, bias, weights) - y\n",
    "    # STUDENT CODE ENDS\n",
    "    return cost_deriv"
   ]
  },
  {
   "cell_type": "markdown",
   "metadata": {},
   "source": [
    "Finally lets fit the logistic regression model with gradient descent across all training data points. As we saw before, gradient descent works by, at each iteration, average the total cost and the derivatives on over the full training set.\n",
    "\n",
    "Implement gradient descent for logistic regression. Experiment with different learning rates and number of iterations to see if you get differnt solutions."
   ]
  },
  {
   "cell_type": "code",
   "execution_count": 595,
   "metadata": {},
   "outputs": [
    {
     "name": "stdout",
     "output_type": "stream",
     "text": [
      "iteration:  0  cost:  1.367222206446689\n",
      "iteration:  1  cost:  1.122782509198324\n",
      "iteration:  2  cost:  1.0709687078612662\n",
      "iteration:  3  cost:  1.057223709293185\n",
      "iteration:  4  cost:  1.0471616708638438\n",
      "iteration:  5  cost:  1.0374852373681234\n",
      "iteration:  6  cost:  1.0279341082083462\n",
      "iteration:  7  cost:  1.018488349407914\n",
      "iteration:  8  cost:  1.009146158088188\n",
      "iteration:  9  cost:  0.9999070412269008\n",
      "iteration:  10  cost:  0.9907705773450587\n",
      "iteration:  11  cost:  0.9817363275727543\n",
      "iteration:  12  cost:  0.9728038296878988\n",
      "iteration:  13  cost:  0.9639725981192565\n",
      "iteration:  14  cost:  0.9552421244163173\n",
      "iteration:  15  cost:  0.9466118777819291\n",
      "iteration:  16  cost:  0.9380813056324047\n",
      "iteration:  17  cost:  0.9296498341797161\n",
      "iteration:  18  cost:  0.9213168690336795\n",
      "iteration:  19  cost:  0.9130817958225552\n",
      "iteration:  20  cost:  0.9049439808305911\n",
      "iteration:  21  cost:  0.8969027716510061\n",
      "iteration:  22  cost:  0.8889574978529245\n",
      "iteration:  23  cost:  0.8811074716607531\n",
      "iteration:  24  cost:  0.8733519886444527\n",
      "iteration:  25  cost:  0.8656903284192029\n",
      "iteration:  26  cost:  0.858121755352906\n",
      "iteration:  27  cost:  0.8506455192800275\n",
      "iteration:  28  cost:  0.8432608562202614\n",
      "iteration:  29  cost:  0.8359669891005308\n",
      "iteration:  30  cost:  0.8287631284788611\n",
      "iteration:  31  cost:  0.8216484732686983\n",
      "iteration:  32  cost:  0.8146222114622637\n",
      "iteration:  33  cost:  0.8076835208515973\n",
      "iteration:  34  cost:  0.8008315697459593\n",
      "iteration:  35  cost:  0.7940655176843294\n",
      "iteration:  36  cost:  0.7873845161417797\n",
      "iteration:  37  cost:  0.7807877092285568\n",
      "iteration:  38  cost:  0.7742742343807543\n",
      "iteration:  39  cost:  0.7678432230415391\n",
      "iteration:  40  cost:  0.7614938013319157\n",
      "iteration:  41  cost:  0.7552250907101231\n",
      "iteration:  42  cost:  0.7490362086187723\n",
      "iteration:  43  cost:  0.742926269118938\n",
      "iteration:  44  cost:  0.736894383510452\n",
      "iteration:  45  cost:  0.7309396609377278\n",
      "iteration:  46  cost:  0.725061208980506\n",
      "iteration:  47  cost:  0.7192581342289582\n",
      "iteration:  48  cost:  0.7135295428426851\n",
      "iteration:  49  cost:  0.7078745410931617\n",
      "iteration:  50  cost:  0.7022922358892856\n",
      "iteration:  51  cost:  0.6967817352857008\n",
      "iteration:  52  cost:  0.6913421489736743\n",
      "iteration:  53  cost:  0.685972588754312\n",
      "iteration:  54  cost:  0.6806721689939836\n",
      "iteration:  55  cost:  0.6754400070618675\n",
      "iteration:  56  cost:  0.670275223749574\n",
      "iteration:  57  cost:  0.6651769436728553\n",
      "iteration:  58  cost:  0.6601442956554553\n",
      "iteration:  59  cost:  0.6551764130951798\n",
      "iteration:  60  cost:  0.6502724343123407\n",
      "iteration:  61  cost:  0.6454315028807145\n",
      "iteration:  62  cost:  0.6406527679412409\n",
      "iteration:  63  cost:  0.6359353844986781\n",
      "iteration:  64  cost:  0.6312785137014839\n",
      "iteration:  65  cost:  0.6266813231052083\n",
      "iteration:  66  cost:  0.6221429869197072\n",
      "iteration:  67  cost:  0.6176626862405151\n",
      "iteration:  68  cost:  0.6132396092647241\n",
      "iteration:  69  cost:  0.6088729514917403\n",
      "iteration:  70  cost:  0.6045619159093005\n",
      "iteration:  71  cost:  0.6003057131651469\n",
      "iteration:  72  cost:  0.5961035617247652\n",
      "iteration:  73  cost:  0.5919546880156016\n",
      "iteration:  74  cost:  0.5878583265581818\n",
      "iteration:  75  cost:  0.5838137200845624\n",
      "iteration:  76  cost:  0.5798201196445373\n",
      "iteration:  77  cost:  0.575876784700047\n",
      "iteration:  78  cost:  0.5719829832082111\n",
      "iteration:  79  cost:  0.5681379916934247\n",
      "iteration:  80  cost:  0.5643410953089505\n",
      "iteration:  81  cost:  0.5605915878884327\n",
      "iteration:  82  cost:  0.5568887719877609\n",
      "iteration:  83  cost:  0.5532319589177008\n",
      "iteration:  84  cost:  0.5496204687677103\n",
      "iteration:  85  cost:  0.546053630421344\n",
      "iteration:  86  cost:  0.5425307815636492\n",
      "iteration:  87  cost:  0.5390512686809492\n",
      "iteration:  88  cost:  0.535614447053393\n",
      "iteration:  89  cost:  0.5322196807406525\n",
      "iteration:  90  cost:  0.528866342561127\n",
      "iteration:  91  cost:  0.5255538140650244\n",
      "iteration:  92  cost:  0.5222814855016495\n",
      "iteration:  93  cost:  0.519048755781256\n",
      "iteration:  94  cost:  0.5158550324317681\n",
      "iteration:  95  cost:  0.5126997315507135\n",
      "iteration:  96  cost:  0.5095822777526476\n",
      "iteration:  97  cost:  0.5065021041123888\n",
      "iteration:  98  cost:  0.5034586521043334\n",
      "iteration:  99  cost:  0.5004513715381351\n"
     ]
    }
   ],
   "source": [
    "lr = 0.08 # <-- specify learning rate\n",
    "\n",
    "# Initialize weights and bias as random\n",
    "bias = np.random.normal()\n",
    "weights = np.random.normal(size = len(x[0]))\n",
    "\n",
    "\n",
    "number_of_iterations = 100 # <-- number of iterations to perform gradient descent\n",
    "\n",
    "# Loop through training data and update the weights at each iteration\n",
    "\n",
    "for it in range(number_of_iterations):\n",
    "# .. Code for gradient descent for logistic regression\n",
    "    # STUDENT CODE HERE\n",
    "    sum_cost = 0\n",
    "    sum_weights = np.zeros_like(weights)\n",
    "    sum_bias = 0\n",
    "    m = len(x)\n",
    "\n",
    "    for i in range(len(x)):\n",
    "        sum_cost += cost_function(y[i], x[i], bias, weights)\n",
    "        sum_weights += derivative_weights(y[i], x[i], bias, weights)\n",
    "        sum_bias += derivative_bias(y[i], x[i], bias, weights)\n",
    "    \n",
    "    cost = sum_cost / m\n",
    "    weights -= lr * sum_weights / m\n",
    "    bias -= lr * sum_bias / m\n",
    "\n",
    "    # STUDENT CODE ENDS\n",
    "\n",
    "    print('iteration: ', it, ' cost: ', cost) # In this case the variable for the current cost is called \"cost\""
   ]
  },
  {
   "cell_type": "code",
   "execution_count": 596,
   "metadata": {},
   "outputs": [
    {
     "name": "stdout",
     "output_type": "stream",
     "text": [
      "Accuracy:  1.0\n"
     ]
    }
   ],
   "source": [
    "predicted = []\n",
    "for i in range(len(x)):\n",
    "    yhat = z_x(x[i], bias, weights)\n",
    "    predicted.append(round(yhat))\n",
    "\n",
    "print('Accuracy: ', np.sum(np.equal(y,predicted)) / len(predicted))"
   ]
  },
  {
   "cell_type": "markdown",
   "metadata": {},
   "source": [
    "Let us plot the decision boundary for the new weights:"
   ]
  },
  {
   "cell_type": "code",
   "execution_count": 597,
   "metadata": {},
   "outputs": [
    {
     "data": {
      "image/png": "[encoded data removed]",
      "text/plain": [
       "<Figure size 640x480 with 1 Axes>"
      ]
     },
     "metadata": {},
     "output_type": "display_data"
    }
   ],
   "source": [
    "x_values = x[:,0]\n",
    "y_values = - (bias + weights[0]*x_values) / weights[1]\n",
    "\n",
    "plt.figure()\n",
    "for label in np.unique(y):\n",
    "    plt.scatter(x[:,0][y==label],x[:,1][y==label], label = data.target_names[label])\n",
    "plt.plot(x_values, y_values, label='Decision Boundary')\n",
    "plt.legend()\n",
    "plt.show()"
   ]
  }
 ],
 "metadata": {
  "kernelspec": {
   "display_name": ".venv",
   "language": "python",
   "name": "python3"
  },
  "language_info": {
   "codemirror_mode": {
    "name": "ipython",
    "version": 3
   },
   "file_extension": ".py",
   "mimetype": "text/x-python",
   "name": "python",
   "nbconvert_exporter": "python",
   "pygments_lexer": "ipython3",
   "version": "3.11.2"
  }
 },
 "nbformat": 4,
 "nbformat_minor": 2
}
